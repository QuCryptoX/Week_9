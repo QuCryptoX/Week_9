{
 "cells": [
  {
   "cell_type": "markdown",
   "metadata": {},
   "source": [
    "<h1 style=\"color:#00A6D6;\">Week 9: Noise in quantum information</h1>\n",
    "\n",
    "This week, we have been discussing how to avoid certain impossibility results in two-party crypto by making some assumptions about noise. We saw for instance that oblivious transfer **is possible** in the noisy storage model. However, what is noise exactly? We will make the notion of noise more precise in this notebook :-).\n",
    "\n",
    "<b>Important: JuliaBox has updated their kernel again - this notebook is tested for Julia 0.4.7! Before you run this notebook, click on \"Kernel\" in the menu above. Then go to \"Change kernel\" and select \"Julia 0.4.7\". Have fun!</b>"
   ]
  },
  {
   "cell_type": "code",
   "execution_count": null,
   "metadata": {
    "collapsed": false
   },
   "outputs": [],
   "source": [
    "include(\"source/main.jl\");"
   ]
  },
  {
   "cell_type": "markdown",
   "metadata": {},
   "source": [
    "<a id=Dist></a>\n",
    "<h2 style=\"color:#00A6D6;\">Properties of physical noise processes</h2>\n",
    "\n",
    "The first question that we are going to address is what properties a valid noise process neeeds to verify. \n",
    "\n",
    "Do you remember the protocol that we have studied this week for oblivious transfer in the noisy storage model? Just in case we reproduce it.\n",
    "\n",
    "Protocol for 1-2 OT in the noisy-storage model. Alice has inputs $s_0, s_1 \\in \\{0,1\\}^{\\ell}$, Bob has input $y \\in \\{0,1\\}$. \n",
    "1. Alice chooses a random string $x = x_1,\\ldots,x_n \\in \\{0,1\\}^n$ and random basis $\\theta = \\theta_1,\\ldots,\\theta_n \\in \\{0,1\\}^n$. She sends the bits encoded in the randomly chosen BB84 bases $H^{\\theta_1} \\mid x_1\\rangle \\otimes \\ldots \\otimes H^{\\theta_n} \\mid x_n\\rangle$ to Bob. \n",
    "2. If $y=0$, then Bob measures all of the qubits in the standard basis. If $y = 1$, he measures in the Hadamard basis. He records the resulting outcome string $\\tilde{x} = \\tilde{x}_1,\\ldots,\\tilde{x}_n$. \n",
    "3. Both parties wait time $\\Delta t$. (**Storage assumption is applied!**)\n",
    "4. Alice sends to Bob the string $\\theta_1,\\ldots,\\theta_n$. \n",
    "5. Bob computes the set of indices $\\mathcal{I} = \\{j\\mid \\theta_j = y\\}$ where the measured in the same basis than Alice. \n",
    "6. Alice chooses two random extractor functions as specified by random seeds $r_0$ and $r_1$. She computes $k_0 = Ext(x_{+},r_0)$ and $k_1 = Ext(x_{\\times},r_1)$. Where $x_{+}$ is the substring of $x$ where Alice encoded in the standard basis, and $x_{\\times}$ is the substring where she used the Hadamard basis. She sends $r_0$ and $r_1$ to Bob. \n",
    "7. Alice sends to Bob $m_0 = s_0 \\oplus k_0$ and $m_1 = s_1 \\oplus k_1$, where $\\oplus$ denotes the bit wise xor.\n",
    "8. Bob computes $k = Ext(x_{\\mathcal{I}},r_y)$ and $s_y = k_y \\oplus r_y$.\n",
    "    \n",
    "Bob wants to cheat. In step 2, he receives Alice's bits encoded in the BB84 bases. Instead of measuring this states, he decides to wait until step 4 when Alice will send him the list of encoding bases. \n",
    "\n",
    "Let us call $\\rho$ the state that Bob receives from Alice (which might consist of many qubits). In step 2, he places carefully $\\rho$ in a quantum memory. He waits a time $\\Delta t$. If he still had $\\rho$ after waiting $\\Delta t$ he would be able to recover all of Alice's bits, however, since his memory is noisy after this time, the state in the memory will not be $\\rho$ anymore, it will be some noisy version of $\\rho$ that we denote by $N(\\rho)$."
   ]
  },
  {
   "cell_type": "markdown",
   "metadata": {},
   "source": [
    "<h3  style=\"color:#00A6D6;\">edX exercise 1: Trace preservation</h3>\n",
    "\n",
    "Let $\\mid\\phi\\rangle=\\frac{1}{\\sqrt{3}}\\mid 0\\rangle+\\sqrt{\\frac{2}{3}}\\mid 1\\rangle$ and $\\rho=\\mid\\phi\\rangle\\langle\\phi\\mid$. Then compute:\n",
    "1. $Tr(\\rho)$, where $Tr(\\cdot)$ is the trace function.\n",
    "2. Probability of obtaining the outcome 0 if Bob measures $\\rho$ in the standard basis.\n",
    "3. Probability of obtaining the outcome 1 if Bob measures $\\rho$ in the standard basis.\n",
    "\n",
    "Let us suppose that the noise process in Bob's memory is given by \n",
    "\n",
    "$$N(\\rho)=0.5\\rho\\ .$$ \n",
    "\n",
    "Do you think, that this is a valid map? Let us investigate it! Compute:\n",
    "\n",
    "4. $Tr(N(\\rho))$, where $Tr(\\cdot)$ is the trace function.\n",
    "5. Probability of obtaining the outcome 0 if Bob measures $N(\\rho)$ in the standard basis.\n",
    "6. Probability of obtaining the outcome 1 if Bob measures $N(\\rho)$ in the standard basis.\n",
    "\n",
    "Now compare the results of questions 1-3 and 4-6, what do you conclude?"
   ]
  },
  {
   "cell_type": "code",
   "execution_count": null,
   "metadata": {
    "collapsed": true
   },
   "outputs": [],
   "source": [
    "# Your code can go here"
   ]
  },
  {
   "cell_type": "markdown",
   "metadata": {},
   "source": [
    "<h3 style=\"color:#00A6D6;\">edX exercise 2: Complete positivity</h3>\n",
    "\n",
    "Now, consider that $\\rho=\\frac{1}{3}\\mid0\\rangle\\langle0\\mid+\\frac{2}{3}\\mid1\\rangle\\langle1\\mid$ and suppose that the noise in Bob's memory is given by: \n",
    "\n",
    "$$N(\\rho)=T(\\rho)\\ .$$ \n",
    "\n",
    "where $T(\\cdot)$ is the transpose operation in the standard basis. That is: \n",
    "\n",
    "$$T(\\mid i\\rangle\\langle j\\mid)=\\mid j\\rangle\\langle i\\mid \\ .$$ \n",
    "\n",
    "We already discussed this map in the notebook of week 2, you might want to take a look at the notebook again to familiarize with its properties.\n",
    "\n",
    "Compute:\n",
    "\n",
    "1. $Tr(\\rho)$ and $Tr(N(\\rho))$.\n",
    "2. Probability of obtaining the outcome 0 if Bob measures $\\rho$ and $Tr(N(\\rho))$ in the standard basis.\n",
    "3. Probability of obtaining the outcome 1 if Bob measures $\\rho$ and $Tr(N(\\rho))$ in the standard basis.\n",
    "\n",
    "Apparently not much has happened right? Now, let us consider that a third party Eve holds a purification of $\\rho$. We denote the purification by $\\phi_{BE})$. That is, $\\rho=Tr_E(\\phi_{BE}$. Suppose for the sake of simplicity that Eve has a perfect memory, then after time $\\Delta t$ the joint state will be: $N\\otimes I (\\phi_{BE})$. What this means is that the noisy map will be applied to Bob's system $B$ and the identity map will be applied to Eve's system $E$. Explicitely, this map acts as:\n",
    "\n",
    "$$N\\otimes I(\\mid i\\rangle\\langle j\\mid\\otimes\\mid k\\rangle\\langle l\\mid)=\\mid j\\rangle\\langle i\\mid\\otimes\\mid k\\rangle\\langle l\\mid$$\n",
    "\n",
    "4. What are the eigenvalues of $N\\otimes I (\\phi_{BE})$?\n",
    "5. Suppose that $N\\otimes I$ was a valid noise process. Then, if we measured the state $N\\otimes I (\\phi_{BE})$ in its eigenbasis, what would be the probabilities of each possible outcome from greatest to smallest?\n",
    "\n",
    "What do you conclude of this noise process?"
   ]
  },
  {
   "cell_type": "code",
   "execution_count": null,
   "metadata": {
    "collapsed": true
   },
   "outputs": [],
   "source": [
    "# Your code can go here"
   ]
  },
  {
   "cell_type": "markdown",
   "metadata": {},
   "source": [
    "<h2 style=\"color:#00A6D6;\"> Some common noise models</h2>\n",
    "\n",
    "Mathematically, any valid physical noise can be modelled by what is called a trace preserving and completely positive map. You can learn more about these maps for instance in the book of Nielsen and Chuang. As you guessed, the maps in the previous two exercises are not valid noise processes and, in consequence, they are not trace preserving and completely positive. Now, let us recall two very physical and valid types of noise: depolarizing and dephasing. They are given by the following maps:\n",
    "\n",
    "$$\n",
    "\\mbox{Dephasing noise: }\\qquad Dephase_p(\\rho) = (1-p)\\ \\rho + p\\ X \\rho X\\ \n",
    "$$\n",
    "\n",
    "and\n",
    "\n",
    "$$\n",
    "\\mbox{Depolarizing noise: }\\qquad Depol_p(\\rho) = (1-p)\\ \\rho + p\\ \\frac{\\mathbb{I}}{2}\n",
    "$$"
   ]
  },
  {
   "cell_type": "markdown",
   "metadata": {},
   "source": [
    "<h3 style=\"color:#00A6D6;\"> edX Exercise 3: Bob's attack</h3>\n",
    "\n",
    "Let us go back to the protocol for oblivious transfer in the noisy storage model. Bob will try to break the protocol by modifying steps 2 and 5 as follows:\n",
    "\n",
    "2'. Bob stores Alice's messages in his noisy quantum memory.\n",
    "\n",
    "5'. Bob guesses the value of each of Alice's bits.\n",
    "\n",
    "Suppose that $p=0.1$ and Alice encoded her bit in the hadamard basis. Compute:\n",
    "\n",
    "1. The probability that Bob guesses Alice's bit with depolarizing noise.\n",
    "2. The probability that Bob guesses Alice's bit with dephasing noise.\n",
    "\n",
    "Suppose that $p=0.6$ and Alice encoded her bit in the standard basis. Compute:\n",
    "\n",
    "1. The probability that Bob guesses Alice's bit with depolarizing noise.\n",
    "2. The probability that Bob guesses Alice's bit with dephasing noise."
   ]
  },
  {
   "cell_type": "code",
   "execution_count": null,
   "metadata": {
    "collapsed": false
   },
   "outputs": [],
   "source": [
    "# Your Julia Code goes here"
   ]
  },
  {
   "cell_type": "markdown",
   "metadata": {
    "collapsed": true
   },
   "source": [
    "<a rel=\"license\" href=\"http://creativecommons.org/licenses/by-nc/4.0/\"><img alt=\"Creative Commons License\" style=\"border-width:0\" src=\"https://i.creativecommons.org/l/by-nc/4.0/88x31.png\" /></a><br /><span xmlns:dct=\"http://purl.org/dc/terms/\" property=\"dct:title\">Week 9 Exercises for QuCryptoX</span> by David Elkouss and Stephanie Wehner for <a xmlns:cc=\"http://creativecommons.org/ns#\" href=\"http://qutech.nl/edu/\" property=\"cc:attributionName\" rel=\"cc:attributionURL\">QuTech Academy</a> is licensed under a <a rel=\"license\" href=\"http://creativecommons.org/licenses/by-nc/4.0/\">Creative Commons Attribution-NonCommercial 4.0 International License</a>."
   ]
  },
  {
   "cell_type": "code",
   "execution_count": null,
   "metadata": {
    "collapsed": true
   },
   "outputs": [],
   "source": []
  }
 ],
 "metadata": {
  "anaconda-cloud": {},
  "kernelspec": {
   "display_name": "Julia 0.5.0",
   "language": "julia",
   "name": "julia-0.5"
  },
  "language_info": {
   "file_extension": ".jl",
   "mimetype": "application/julia",
   "name": "julia",
   "version": "0.5.0"
  }
 },
 "nbformat": 4,
 "nbformat_minor": 0
}
